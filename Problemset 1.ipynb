{
 "cells": [
  {
   "cell_type": "markdown",
   "id": "4bda6c15",
   "metadata": {},
   "source": [
    "### BDAT 1004 Problem Set 1 "
   ]
  },
  {
   "cell_type": "markdown",
   "id": "6ec9ee0d",
   "metadata": {},
   "source": [
    "# Question no. 1"
   ]
  },
  {
   "cell_type": "code",
   "execution_count": 3,
   "id": "68f9f981",
   "metadata": {},
   "outputs": [],
   "source": [
    "#a. 5=> integer\n",
    "#b. 5.0 => float\n",
    "#c. 5>1 => bool\n",
    "#d. '5' => string\n",
    "#e. 5*2 => integer\n",
    "#f. '5'* '2' => string\n",
    "#g. '5' + '2' => string\n",
    "#h. 5/2 => float\n",
    "#i. 5%2 => integer\n",
    "#j.{5,2,1} =>array\n",
    "#k. 5==3 =>bool\n",
    "#l. pi(the number) =>float"
   ]
  },
  {
   "cell_type": "markdown",
   "id": "4b193ddd",
   "metadata": {},
   "source": [
    "# Question No. 2\n"
   ]
  },
  {
   "cell_type": "code",
   "execution_count": 4,
   "id": "7867fa22",
   "metadata": {},
   "outputs": [
    {
     "name": "stdout",
     "output_type": "stream",
     "text": [
      "There are 34 letters in Supercalifragilisticexpialidocious\n"
     ]
    }
   ],
   "source": [
    "#a.How many letters are there in 'Supercalifragilisticexpialidocious'?\n",
    "string = 'Supercalifragilisticexpialidocious'\n",
    "length = len(string)\n",
    "print('There are', length, 'letters in Supercalifragilisticexpialidocious')"
   ]
  },
  {
   "cell_type": "code",
   "execution_count": 5,
   "id": "c35b920b",
   "metadata": {},
   "outputs": [
    {
     "name": "stdout",
     "output_type": "stream",
     "text": [
      "True\n"
     ]
    }
   ],
   "source": [
    "#b.Does'Supercalifragilisticexpialidocious' contain 'ice' as a substring?\n",
    "string = 'Supercalifragilisticexpialidocious'\n",
    "if 'ice' in string:\n",
    " print('True')\n",
    "else:\n",
    " print('False')"
   ]
  },
  {
   "cell_type": "code",
   "execution_count": 6,
   "id": "835fe21c",
   "metadata": {},
   "outputs": [
    {
     "name": "stdout",
     "output_type": "stream",
     "text": [
      "Supercalifragilisticexpialidocious is the longest word\n"
     ]
    }
   ],
   "source": [
    "#c.Which of the following words is the longest: Supercalifragilisticexpialidocious, Honorificabilitudinitatibus, or Bababadalgharaghtakamminarronnkonn?\n",
    "string1 = 'Supercalifragilisticexpialidocious'\n",
    "string2 = 'Honorificabilitudinitatibus'\n",
    "string3 = 'Bababadalgharaghtakamminarronnkonn'\n",
    "if len(string1) >= len(string2) and len(string1) >= len(string3):\n",
    "    print('Supercalifragilisticexpialidocious is the longest word')\n",
    "elif len(string2) >= len(string1) and len(string2) >= len(string3):\n",
    "    print('Honorificabilitudinitatibus is the longest word')\n",
    "else:\n",
    "    print('Bababadalgharaghtakamminarronnkonn is the longest word')"
   ]
  },
  {
   "cell_type": "code",
   "execution_count": 7,
   "id": "d24fec03",
   "metadata": {},
   "outputs": [
    {
     "name": "stdout",
     "output_type": "stream",
     "text": [
      "Bartok comes first in the dictionary.\n",
      "Buxtehude comes last in the dictionary.\n"
     ]
    }
   ],
   "source": [
    "#d.Which composer comes first in the dictionary: 'Berlioz', 'Borodin', 'Brian','Bartok', 'Bellini', 'Buxtehude', 'Bernstein'. Which one comes last?\n",
    "composersDictionary = ['Berlioz','Borodin','Brian','Bartok','Bellini','Buxtehude','Bernstein']\n",
    "composersDictionary.sort()\n",
    "print(composersDictionary[0],'comes first in the dictionary.')\n",
    "print(composersDictionary[6],'comes last in the dictionary.')"
   ]
  },
  {
   "cell_type": "markdown",
   "id": "1137ead9",
   "metadata": {},
   "source": [
    "# Question No. 3"
   ]
  },
  {
   "cell_type": "code",
   "execution_count": 1,
   "id": "f1c66966",
   "metadata": {},
   "outputs": [
    {
     "name": "stdout",
     "output_type": "stream",
     "text": [
      "Enter length of first side:2\n",
      "Enter length of second side:3\n",
      "Enter length of third side:4\n",
      "Area of the triangle is:  2.9047375096555625\n"
     ]
    }
   ],
   "source": [
    "import math\n",
    "firstNumber = int(input('Enter length of first side:'))\n",
    "secondNumber = int(input('Enter length of second side:'))\n",
    "thirdNumber = int(input('Enter length of third side:'))\n",
    "def triangleArea(a,b,c):\n",
    "    s = (a+b+c)/2\n",
    "    area = math.sqrt(s*(s-a)*(s-b)*(s-c))\n",
    "    print('Area of the triangle is: ', area)\n",
    "triangleArea(firstNumber, secondNumber, thirdNumber)"
   ]
  },
  {
   "cell_type": "markdown",
   "id": "792c816f",
   "metadata": {},
   "source": [
    "# Question No. 4"
   ]
  },
  {
   "cell_type": "code",
   "execution_count": 2,
   "id": "1f840be6",
   "metadata": {},
   "outputs": [
    {
     "name": "stdout",
     "output_type": "stream",
     "text": [
      "Enter the first element:8\n",
      "Enter the second element:9\n",
      "Enter the third element:10\n",
      "Enter the fourth element:11\n",
      "Enter the fifth element:13\n",
      "Even numbers are [8, 10]\n",
      "Odd numbers are [9, 11, 13]\n"
     ]
    }
   ],
   "source": [
    "firstElement = int(input('Enter the first element:'))\n",
    "secondElement = int(input('Enter the second element:'))\n",
    "thirdElement = int(input('Enter the third element:'))\n",
    "fourthElement = int(input('Enter the fourth element:'))\n",
    "fifthElement = int(input('Enter the fifth element:'))\n",
    "list = [firstElement, secondElement, thirdElement, fourthElement, fifthElement]\n",
    "listofEven = []\n",
    "listofOdd = []\n",
    "for i in list:\n",
    "    if i%2==0:\n",
    "     listofEven.append(i)\n",
    "    else:\n",
    "     listofOdd.append(i)\n",
    "print('Even numbers are', listofEven)\n",
    "print('Odd numbers are', listofOdd)"
   ]
  },
  {
   "cell_type": "markdown",
   "id": "ff02e77c",
   "metadata": {},
   "source": [
    "# Question No. 5"
   ]
  },
  {
   "cell_type": "code",
   "execution_count": 1,
   "id": "8ecce368",
   "metadata": {},
   "outputs": [
    {
     "name": "stdout",
     "output_type": "stream",
     "text": [
      "Enter x: 5\n",
      "Enter y: 2\n",
      "Enter x1: 0\n",
      "Enter y1: 3\n",
      "Enter x2: 4\n",
      "Enter y2: 1\n",
      "False\n",
      "False\n",
      "True\n"
     ]
    }
   ],
   "source": [
    "#a.Write a function inside(x,y,x1,y1,x2,y2) that returns True or False depending on whether the point (x,y) lies in the rectangle with lower left corner (x1,y1) and upper right corner (x2,y2).\n",
    "x = int(input('Enter x: '))\n",
    "y = int(input('Enter y: '))\n",
    "x1 = int(input('Enter x1: '))\n",
    "y1 = int(input('Enter y1: '))\n",
    "x2 = int(input('Enter x2: '))\n",
    "y2 = int(input('Enter y2: '))\n",
    "def inside(x,y,x1,y1,x2,y2):\n",
    "    if (x > x1 and x < x2) and (y > y1 and y < y2):\n",
    "        print('True')\n",
    "    else:\n",
    "        print('False')\n",
    "inside(x,y,x1,y1,x2,y2)\n",
    "\n",
    "#b.Use function inside() from part a. to write an expression that tests whether the point (1,1) lies in both of the following rectangles: one with lower left corner (0.3, 0.5) and upper right corner (1.1, 0.7) and the other with lower left corner (0.5, 0.2) and upper right corner (1.1, 2).\n",
    "inside (1,1,0.3,0.5,1.1,0.7)\n",
    "inside (1,1,0.5,0.2,1.1,2)"
   ]
  },
  {
   "cell_type": "markdown",
   "id": "01a9e1ab",
   "metadata": {},
   "source": [
    "# Question No. 6"
   ]
  },
  {
   "cell_type": "code",
   "execution_count": 2,
   "id": "271c4140",
   "metadata": {},
   "outputs": [
    {
     "name": "stdout",
     "output_type": "stream",
     "text": [
      "Enter a word : World\n",
      "orldway\n"
     ]
    }
   ],
   "source": [
    "vowels = ['a','e','i','o','u']\n",
    "def pig():\n",
    "    string = input('Enter a word : ')\n",
    "    string = string.lower()\n",
    "    if string[0] in vowels:\n",
    "        string += 'way'\n",
    "        print(string)\n",
    "    else:\n",
    "        result = string[1:]\n",
    "        result = result + string[0] + 'ay'\n",
    "        print(result)\n",
    "pig()"
   ]
  },
  {
   "cell_type": "markdown",
   "id": "20a87efe",
   "metadata": {},
   "source": [
    "# Question No. 7"
   ]
  },
  {
   "cell_type": "code",
   "execution_count": 12,
   "id": "b9911fa5",
   "metadata": {},
   "outputs": [
    {
     "name": "stdout",
     "output_type": "stream",
     "text": [
      "There are 15 patients of blood type A\n",
      "There are 1 patients of blood type B\n",
      "There are 13 patients of blood type AB\n",
      "There are 15 patients of blood type O\n",
      "There are 0 patients of blood type OO\n"
     ]
    }
   ],
   "source": [
    "def bloodSamples(letter):\n",
    "    with open('bloodtype1.txt', 'r') as infile:\n",
    "        data = infile.read()\n",
    "    \n",
    "    count = data.split().count(letter)\n",
    "    \n",
    "    return count\n",
    "\n",
    "def bloodTest():\n",
    "    blood_types = ['A', 'B', 'AB', 'O', 'OO']\n",
    "    for blood_type in blood_types:\n",
    "        count = bloodSamples(blood_type)\n",
    "        print(f\"There are {count} patients of blood type {blood_type}\")\n",
    "\n",
    "bloodTest()"
   ]
  },
  {
   "cell_type": "markdown",
   "id": "17499219",
   "metadata": {},
   "source": [
    "# Question No. 8"
   ]
  },
  {
   "cell_type": "code",
   "execution_count": 3,
   "id": "eab724e0",
   "metadata": {},
   "outputs": [
    {
     "name": "stdout",
     "output_type": "stream",
     "text": [
      "122.96544\n",
      "1.241401\n"
     ]
    }
   ],
   "source": [
    "def curconv(currency, amount):\n",
    "    conversion_rates = {}\n",
    "    with open(\"currencies.txt\") as f:\n",
    "        for line in f:\n",
    "            parts = line.strip().split(\"\\t\");\n",
    "            conversion_rates[parts[0]] = float(parts[1])\n",
    "    return amount * conversion_rates.get(currency, 1);\n",
    "\n",
    "print(curconv('EUR',100))\n",
    "print(curconv('JPY',100))\n"
   ]
  },
  {
   "cell_type": "markdown",
   "id": "323ef7b2",
   "metadata": {},
   "source": [
    "# Question No. 9"
   ]
  },
  {
   "cell_type": "markdown",
   "id": "108357c2",
   "metadata": {},
   "source": [
    "a. Trying to add incompatible variables, as in adding 6 + ‘a’ "
   ]
  },
  {
   "cell_type": "markdown",
   "id": "ef337de5",
   "metadata": {},
   "source": [
    "TypeError"
   ]
  },
  {
   "cell_type": "markdown",
   "id": "e0f6dceb",
   "metadata": {},
   "source": [
    "b. Referring to the 12th item of a list that has only 10 items "
   ]
  },
  {
   "cell_type": "markdown",
   "id": "5d242892",
   "metadata": {},
   "source": [
    "IndexError"
   ]
  },
  {
   "cell_type": "markdown",
   "id": "b8368884",
   "metadata": {},
   "source": [
    "c. Using a value that is out of range for a function’s input, such as calling math.sqrt(1.0) "
   ]
  },
  {
   "cell_type": "markdown",
   "id": "a50d5bd8",
   "metadata": {},
   "source": [
    "ValueError"
   ]
  },
  {
   "cell_type": "markdown",
   "id": "a1180858",
   "metadata": {},
   "source": [
    "d. Using an undeclared variable, such as print(x) when x has not been defined \n"
   ]
  },
  {
   "cell_type": "markdown",
   "id": "118e9afb",
   "metadata": {},
   "source": [
    "NameError"
   ]
  },
  {
   "cell_type": "markdown",
   "id": "7cda37b2",
   "metadata": {},
   "source": [
    "e. Trying to open a file that does not exist, such as mistyping the file name or looking in the wrong directory. "
   ]
  },
  {
   "cell_type": "markdown",
   "id": "913f6a01",
   "metadata": {},
   "source": [
    "FileNotFoundError"
   ]
  },
  {
   "cell_type": "markdown",
   "id": "0ba14508",
   "metadata": {},
   "source": [
    "# Question No. 10"
   ]
  },
  {
   "cell_type": "code",
   "execution_count": 5,
   "id": "a1ff8044",
   "metadata": {},
   "outputs": [
    {
     "name": "stdout",
     "output_type": "stream",
     "text": [
      "[1, 1, 1, 3, 5, 1, 1, 2, 1, 0, 1, 0, 1, 2, 4, 0, 1, 2, 0, 3, 1, 0, 1, 1, 0, 0]\n",
      "[1, 0, 0, 0, 1, 0, 0, 0, 0, 0, 0, 1, 0, 0, 0, 2, 0, 0, 0, 0, 0, 0, 0, 0, 0, 0]\n"
     ]
    }
   ],
   "source": [
    "def frequencies(text):\n",
    "    #Define the 'letters' string\n",
    "    letters = 'abcdefghijklmnopqrstuvwxyz'\n",
    "    \n",
    "    # Initialize a list to store the counts for each character\n",
    "    counts =[0] * len(letters)\n",
    "    \n",
    "    #convert the input text to lowercase to ensure case insensitivity\n",
    "    text = text.lower()\n",
    "    \n",
    "    #Iterate through the characters in th input text\n",
    "    for char in text:\n",
    "        if char in letters:\n",
    "            #Increment the count for the character\n",
    "            index = letters.index(char)\n",
    "            counts[index] += 1\n",
    "            \n",
    "    return counts\n",
    "\n",
    "#Test the function with the provided examples\n",
    "print(frequencies('The quick red fox got bored and went home.'))\n",
    "print(frequencies('apple'))"
   ]
  },
  {
   "cell_type": "code",
   "execution_count": null,
   "id": "f955ddc7",
   "metadata": {},
   "outputs": [],
   "source": []
  }
 ],
 "metadata": {
  "kernelspec": {
   "display_name": "Python 3 (ipykernel)",
   "language": "python",
   "name": "python3"
  },
  "language_info": {
   "codemirror_mode": {
    "name": "ipython",
    "version": 3
   },
   "file_extension": ".py",
   "mimetype": "text/x-python",
   "name": "python",
   "nbconvert_exporter": "python",
   "pygments_lexer": "ipython3",
   "version": "3.11.4"
  }
 },
 "nbformat": 4,
 "nbformat_minor": 5
}
